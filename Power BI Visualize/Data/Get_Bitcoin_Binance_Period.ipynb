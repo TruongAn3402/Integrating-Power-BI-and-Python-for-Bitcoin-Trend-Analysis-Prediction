{
  "cells": [
    {
      "cell_type": "code",
      "execution_count": 1,
      "metadata": {},
      "outputs": [
        {
          "name": "stderr",
          "output_type": "stream",
          "text": [
            "C:\\Users\\truon\\AppData\\Local\\Temp\\ipykernel_9900\\1224079863.py:13: DeprecationWarning: datetime.datetime.utcfromtimestamp() is deprecated and scheduled for removal in a future version. Use timezone-aware objects to represent datetimes in UTC: datetime.datetime.fromtimestamp(timestamp, datetime.UTC).\n",
            "  print(f\"Fetching data since {datetime.utcfromtimestamp(since // 1000).isoformat()}\")\n"
          ]
        },
        {
          "name": "stdout",
          "output_type": "stream",
          "text": [
            "Fetching data since 2024-04-01T00:00:00\n",
            "Dữ liệu đã được lưu vào bitcoin_daily_data_april_2024.csv\n"
          ]
        }
      ],
      "source": [
        "import ccxt\n",
        "import pandas as pd\n",
        "from datetime import datetime\n",
        "\n",
        "# Cấu hình Binance API\n",
        "binance = ccxt.binance()\n",
        "\n",
        "# Hàm lấy dữ liệu giá Bitcoin theo ngày từ start_date đến end_date\n",
        "def fetch_daily_data(start_date, end_date):\n",
        "    since = binance.parse8601(start_date + 'T00:00:00Z')\n",
        "    ohlcv = []\n",
        "    while since < binance.parse8601(end_date + 'T00:00:00Z'):\n",
        "        print(f\"Fetching data since {datetime.utcfromtimestamp(since // 1000).isoformat()}\")\n",
        "        data = binance.fetch_ohlcv('BTC/USDT', timeframe='1d', since=since, limit=1000)\n",
        "        if not data:\n",
        "            break\n",
        "        since = data[-1][0] + 24 * 60 * 60 * 1000  # Move to the next day\n",
        "        ohlcv.extend(data)\n",
        "    return pd.DataFrame(ohlcv, columns=['timestamp', 'open', 'high', 'low', 'close', 'volume'])\n",
        "\n",
        "# Lấy dữ liệu từ 1/4/2024 đến 1/5/2024\n",
        "start_date = '2024-04-01'\n",
        "end_date = '2024-05-01'\n",
        "data = fetch_daily_data(start_date, end_date)\n",
        "\n",
        "# Chuyển đổi timestamp thành datetime và định dạng lại theo dd/mm/yy\n",
        "data['timestamp'] = pd.to_datetime(data['timestamp'], unit='ms')\n",
        "data['timestamp'] = data['timestamp'].dt.strftime('%d/%m/%y')\n",
        "\n",
        "# Lưu dữ liệu vào file CSV\n",
        "file_path = 'bitcoin_daily_visualize'\n",
        "data.to_csv(file_path, index=False)\n",
        "print(f\"Dữ liệu đã được lưu vào {file_path}\")\n"
      ]
    }
  ],
  "metadata": {
    "colab": {
      "provenance": []
    },
    "kernelspec": {
      "display_name": "Python 3",
      "name": "python3"
    },
    "language_info": {
      "codemirror_mode": {
        "name": "ipython",
        "version": 3
      },
      "file_extension": ".py",
      "mimetype": "text/x-python",
      "name": "python",
      "nbconvert_exporter": "python",
      "pygments_lexer": "ipython3",
      "version": "3.12.3"
    }
  },
  "nbformat": 4,
  "nbformat_minor": 0
}
