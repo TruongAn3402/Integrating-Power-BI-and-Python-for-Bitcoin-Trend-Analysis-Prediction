{
  "cells": [
    {
      "cell_type": "code",
      "execution_count": 1,
      "metadata": {},
      "outputs": [
        {
          "name": "stderr",
          "output_type": "stream",
          "text": [
            "C:\\Users\\truon\\AppData\\Local\\Temp\\ipykernel_5416\\3256417788.py:23: DeprecationWarning: datetime.datetime.utcnow() is deprecated and scheduled for removal in a future version. Use timezone-aware objects to represent datetimes in UTC: datetime.datetime.now(datetime.UTC).\n",
            "  end_date = datetime.utcnow().strftime('%Y-%m-%d')\n",
            "C:\\Users\\truon\\AppData\\Local\\Temp\\ipykernel_5416\\3256417788.py:13: DeprecationWarning: datetime.datetime.utcfromtimestamp() is deprecated and scheduled for removal in a future version. Use timezone-aware objects to represent datetimes in UTC: datetime.datetime.fromtimestamp(timestamp, datetime.UTC).\n",
            "  print(f\"Fetching data since {datetime.utcfromtimestamp(since // 1000).isoformat()}\")\n"
          ]
        },
        {
          "name": "stdout",
          "output_type": "stream",
          "text": [
            "Fetching data since 2017-01-01T00:00:00\n",
            "Fetching data since 2020-05-13T00:00:00\n",
            "Fetching data since 2023-02-07T00:00:00\n",
            "Dữ liệu đã được lưu vào bitcoin_daily_data.csv\n",
            "Kiểu dữ liệu của cột 'timestamp' sau khi chuyển đổi: datetime64[ns]\n",
            "   timestamp     open     high      low    close       volume\n",
            "0 2017-08-17  4261.48  4485.39  4200.74  4285.08   795.150377\n",
            "1 2017-08-18  4285.08  4371.52  3938.77  4108.37  1199.888264\n",
            "2 2017-08-19  4108.37  4184.69  3850.00  4139.98   381.309763\n",
            "3 2017-08-20  4120.98  4211.08  4032.62  4086.29   467.083022\n",
            "4 2017-08-21  4069.13  4119.62  3911.79  4016.00   691.743060\n",
            "Dữ liệu đã được lưu vào bitcoin_daily_data.csv sau khi kiểm tra và đồng bộ kiểu dữ liệu\n"
          ]
        }
      ],
      "source": [
        "import ccxt\n",
        "import pandas as pd\n",
        "from datetime import datetime\n",
        "\n",
        "# Cấu hình Binance API\n",
        "binance = ccxt.binance()\n",
        "\n",
        "# Hàm lấy dữ liệu giá Bitcoin theo ngày từ 1/1/2017 đến hiện tại\n",
        "def fetch_daily_data(start_date, end_date):\n",
        "    since = binance.parse8601(start_date + 'T00:00:00Z')\n",
        "    ohlcv = []\n",
        "    while since < binance.parse8601(end_date + 'T00:00:00Z'):\n",
        "        print(f\"Fetching data since {datetime.utcfromtimestamp(since // 1000).isoformat()}\")\n",
        "        data = binance.fetch_ohlcv('BTC/USDT', timeframe='1d', since=since, limit=1000)\n",
        "        if not data:\n",
        "            break\n",
        "        since = data[-1][0] + 24 * 60 * 60 * 1000  # Move to the next day\n",
        "        ohlcv.extend(data)\n",
        "    return pd.DataFrame(ohlcv, columns=['timestamp', 'open', 'high', 'low', 'close', 'volume'])\n",
        "\n",
        "# Lấy dữ liệu từ 1/1/2017 đến hiện tại\n",
        "start_date = '2017-01-01'\n",
        "end_date = datetime.utcnow().strftime('%Y-%m-%d')\n",
        "data = fetch_daily_data(start_date, end_date)\n",
        "\n",
        "# Chuyển đổi timestamp thành datetime và định dạng lại theo dd/mm/yy\n",
        "data['timestamp'] = pd.to_datetime(data['timestamp'], unit='ms')\n",
        "data['timestamp'] = data['timestamp'].dt.strftime('%d/%m/%y')\n",
        "\n",
        "# Lưu dữ liệu vào file CSV\n",
        "file_path = 'bitcoin_daily_data.csv'\n",
        "data.to_csv(file_path, index=False)\n",
        "print(f\"Dữ liệu đã được lưu vào {file_path}\")\n",
        "\n",
        "# Đọc lại file CSV để kiểm tra và đồng bộ kiểu dữ liệu timestamp\n",
        "data = pd.read_csv(file_path)\n",
        "\n",
        "# Chuyển đổi cột 'timestamp' sang kiểu thời gian nếu cần thiết\n",
        "data['timestamp'] = pd.to_datetime(data['timestamp'], format='%d/%m/%y', errors='coerce')\n",
        "\n",
        "# Kiểm tra kiểu dữ liệu sau khi chuyển đổi\n",
        "timestamp_dtype = data['timestamp'].dtype\n",
        "print(f\"Kiểu dữ liệu của cột 'timestamp' sau khi chuyển đổi: {timestamp_dtype}\")\n",
        "\n",
        "# Kiểm tra dữ liệu sau khi chuyển đổi\n",
        "print(data.head())\n",
        "\n",
        "# Lưu lại dữ liệu vào file CSV sau khi kiểm tra\n",
        "data.to_csv(file_path, index=False)\n",
        "print(f\"Dữ liệu đã được lưu vào {file_path} sau khi kiểm tra và đồng bộ kiểu dữ liệu\")\n"
      ]
    }
  ],
  "metadata": {
    "colab": {
      "provenance": []
    },
    "kernelspec": {
      "display_name": "Python 3",
      "name": "python3"
    },
    "language_info": {
      "codemirror_mode": {
        "name": "ipython",
        "version": 3
      },
      "file_extension": ".py",
      "mimetype": "text/x-python",
      "name": "python",
      "nbconvert_exporter": "python",
      "pygments_lexer": "ipython3",
      "version": "3.12.3"
    }
  },
  "nbformat": 4,
  "nbformat_minor": 0
}
